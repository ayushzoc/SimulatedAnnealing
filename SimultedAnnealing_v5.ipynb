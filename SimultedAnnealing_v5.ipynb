{
 "cells": [
  {
   "cell_type": "code",
   "execution_count": 1,
   "id": "ddf19d92",
   "metadata": {},
   "outputs": [],
   "source": [
    "from PIL import Image, ImageOps\n",
    "import numpy as np\n",
    "from scipy.spatial.distance import pdist, squareform\n",
    "import matplotlib.pyplot as plt\n",
    "# import seaborn as sns\n",
    "\n",
    "img = Image.open(\"test.png\").convert(\"L\")\n",
    "WIDTH, HEIGHT = img.size\n",
    "\n",
    "matrix = np.array(img)\n",
    "matrix_2 = []\n",
    "for i in range(matrix.shape[0]):\n",
    "    if np.all(matrix[i] == 255):\n",
    "        continue\n",
    "    else:\n",
    "        matrix_2.append(matrix[i])\n",
    "        \n",
    "matrix_2 = np.stack(matrix_2)\n",
    "cities = matrix_2.T\n",
    "\n",
    "citys = []\n",
    "for i in range(cities.shape[0]):\n",
    "    if np.all(cities[i] == 255):\n",
    "        continue\n",
    "    else:\n",
    "        citys.append(cities[i])\n",
    "\n",
    "citys = np.stack(cities)\n",
    "CITY_COUNT = citys.shape[0]\n",
    "\n",
    "final_image = Image.fromarray(citys.T, \"L\")\n",
    "final_image.show()\n",
    "\n",
    "# final_matrix = []\n",
    "# for index in citys:\n",
    "#     final_matrix.append(citys[index])\n",
    "# final_matrix = np.vstack(final_matrix)\n",
    "# print(final_matrix.T.shape)\n",
    "# final_image = Image.fromarray(final_matrix.T, \"L\")\n",
    "# # final_image.save(\"image.jpg\")\n",
    "# final_image.show()"
   ]
  },
  {
   "cell_type": "code",
   "execution_count": 2,
   "id": "5c04d12b",
   "metadata": {},
   "outputs": [
    {
     "name": "stdout",
     "output_type": "stream",
     "text": [
      "[[0.         0.38303342 0.         ... 0.         0.37532134 0.83290488]\n",
      " [0.38303342 0.         0.38303342 ... 0.38303342 0.01799486 0.46272494]\n",
      " [0.         0.38303342 0.         ... 0.         0.37532134 0.83290488]\n",
      " ...\n",
      " [0.         0.38303342 0.         ... 0.         0.37532134 0.83290488]\n",
      " [0.37532134 0.01799486 0.37532134 ... 0.37532134 0.         0.46786632]\n",
      " [0.83290488 0.46272494 0.83290488 ... 0.83290488 0.46786632 0.        ]]\n"
     ]
    }
   ],
   "source": [
    "# distance_matrix = []\n",
    "# for i in range(cities.shape[0]):\n",
    "#     row = []\n",
    "#     for j in range(cities.shape[0]):\n",
    "#         row.append(np.linalg.norm(cities[i] - cities[j]))\n",
    "#     distance_matrix.append(row)\n",
    "distance_matrix = squareform(pdist(citys, \"hamming\"))\n",
    "print(distance_matrix)"
   ]
  },
  {
   "cell_type": "code",
   "execution_count": 3,
   "id": "935b70e5",
   "metadata": {},
   "outputs": [],
   "source": [
    "def Initialize(count):\n",
    "    solution = np.arange(count)\n",
    "    np.random.shuffle(solution)\n",
    "    return solution\n",
    "\n",
    "def Evaluate(cities, solution):\n",
    "    distance = 0\n",
    "    for i in range(cities.shape[0]-1):\n",
    "        index_a = solution[i]\n",
    "        index_b = solution[i + 1]\n",
    "        distance += distance_matrix[index_a][index_b]\n",
    "    return distance"
   ]
  },
  {
   "cell_type": "code",
   "execution_count": 4,
   "id": "10387732",
   "metadata": {},
   "outputs": [],
   "source": [
    "def Modify(current):\n",
    "    new = current.copy()\n",
    "    x = np.random.randint(1, len(current)-2)\n",
    "    y = np.random.randint(1, len(current)-2)\n",
    "    while y == x or x == y+1 or x == y-1 or y == x+1 or y == x-1:\n",
    "        y = np.random.randint(1, len(current)-2)\n",
    "#     print(new[[x, y]])\n",
    "    xplus, xminus = x+1, x-1\n",
    "    yplus, yminus = y+1, y-1\n",
    "    \n",
    "    minus = distance_matrix[new[x]][new[xplus]] + distance_matrix[new[x]][new[xminus]] + distance_matrix[new[y]][new[yplus]] + distance_matrix[new[y]][new[yminus]]\n",
    "    plus = distance_matrix[new[x]][new[yplus]] + distance_matrix[new[x]][new[yminus]] + distance_matrix[new[y]][new[xplus]] + distance_matrix[new[y]][new[xminus]]\n",
    "    new[x], new[y] = new[y], new[x]\n",
    "    \n",
    "    return new, minus, plus\n"
   ]
  },
  {
   "cell_type": "code",
   "execution_count": 51,
   "id": "13629e72",
   "metadata": {},
   "outputs": [
    {
     "name": "stdout",
     "output_type": "stream",
     "text": [
      "50000\n",
      "0.1\n",
      "Current score:  285.60411311054\n",
      "529\n"
     ]
    }
   ],
   "source": [
    "current_solution = Initialize(CITY_COUNT)\n",
    "current_score = Evaluate(citys, current_solution)\n",
    "P_start = 0.799\n",
    "P_final = 10**-7\n",
    "N = 80000000\n",
    "# T_start = -1/np.log(P_start)\n",
    "# T_start = 100\n",
    "T_start = 50000\n",
    "# T_final = -1/np.log(P_final)\n",
    "T_final = 0.1\n",
    "# F = (STOPPING_TEMPERATURE/INITIAL_TEMPERATURE)**(1/(N-1))\n",
    "# F = (T_final/T_s/tart)**(1/(N-1))\n",
    "F = 0.9999998\n",
    "temperature = T_start\n",
    "print(T_start)\n",
    "print(T_final)\n",
    "print(\"Current score: \", current_score)\n",
    "print(current_solution.shape[0])\n",
    "delta_avg_store = []"
   ]
  },
  {
   "cell_type": "code",
   "execution_count": 52,
   "id": "ccb05991",
   "metadata": {},
   "outputs": [
    {
     "name": "stdout",
     "output_type": "stream",
     "text": [
      "38.650385604113055\n",
      "Wall time: 13min 46s\n"
     ]
    }
   ],
   "source": [
    "%%time\n",
    "iteration = 1\n",
    "while iteration <= N: \n",
    "    new_solution, minus, plus = Modify(current_solution)\n",
    "    new_score = current_score - minus + plus\n",
    "#     delta = plus - minus\n",
    "#     delta_avg_store.append(delta)\n",
    "#     delta_avg = sum(delta_avg_store)/len(delta_avg_store)\n",
    "    # worst_score = max(worst_score, new_score)\n",
    "    if plus < minus:\n",
    "        current_solution = new_solution\n",
    "        current_score = new_score\n",
    "    else:\n",
    "        probability = np.exp(-(plus-minus) / (temperature))\n",
    "        if probability > np.random.uniform(0, 1):\n",
    "            current_solution = new_solution\n",
    "            current_score = new_score\n",
    "    temperature *= F\n",
    "    iteration += 1\n",
    "#     print(current_score, temperature)\n",
    "#     print(current_score, temperature)\n",
    "print(Evaluate(citys, current_solution))"
   ]
  },
  {
   "cell_type": "code",
   "execution_count": 53,
   "id": "d646c695",
   "metadata": {},
   "outputs": [
    {
     "name": "stdout",
     "output_type": "stream",
     "text": [
      "(389, 529)\n"
     ]
    }
   ],
   "source": [
    "final_matrix = []\n",
    "for index in current_solution:\n",
    "    final_matrix.append(citys[index])\n",
    "final_matrix = np.vstack(final_matrix)\n",
    "print(final_matrix.T.shape)\n",
    "final_image = Image.fromarray(final_matrix.T, \"L\")\n",
    "final_image.save(\"image_final.jpg\")\n",
    "final_image.show()"
   ]
  },
  {
   "cell_type": "code",
   "execution_count": null,
   "id": "aaf6b45f",
   "metadata": {},
   "outputs": [],
   "source": [
    "path_distance = lambda r,c: np.sum([np.linalg.norm(c[r[p]]-c[r[p-1]]) for p in range(len(r))])\n",
    "two_opt_swap = lambda r,i,k: np.concatenate((r[0:i],r[k:-len(r)+i-1:-1],r[k+1:len(r)]))\n",
    "def two_opt(cities, improvement_threshold):\n",
    "    route = np.arange(cities.shape[0])\n",
    "    improvement_factor = 1\n",
    "    best_distance = path_distance(route, cities)\n",
    "    \n",
    "    while improvement_factor > improvement_threshold:\n",
    "        distance_to_beat = best_distance\n",
    "        for swap_first in range(1, len(route) - 2):\n",
    "            for swap_last in range(swap_first + 1, len(route)):\n",
    "                new_route = two_opt_swap(route, swap_first, swap_last)\n",
    "                new_distance = path_distance(new_route, cities)\n",
    "                if new_distance < best_distance:\n",
    "                    route = new_route\n",
    "                    best_distance = new_distance\n",
    "            print(best_distance, improvement_factor)\n",
    "        improvement_factor = 1 - best_distance/distance_to_beat\n",
    "        \n",
    "    return route"
   ]
  },
  {
   "cell_type": "code",
   "execution_count": null,
   "id": "ac6318c5",
   "metadata": {},
   "outputs": [],
   "source": [
    "route = two_opt(cities, 0.001)"
   ]
  },
  {
   "cell_type": "code",
   "execution_count": null,
   "id": "03e8a242",
   "metadata": {},
   "outputs": [],
   "source": [
    "final_matrix = []\n",
    "for index in route:\n",
    "    final_matrix.append(cities[index])\n",
    "final_matrix = np.vstack(final_matrix)\n",
    "print(final_matrix.T.shape)\n",
    "final_image = Image.fromarray(final_matrix.T)\n",
    "# final_image.save(\"image.jpg\")\n",
    "final_image.show()\n",
    "print(route)"
   ]
  },
  {
   "cell_type": "code",
   "execution_count": null,
   "id": "22c202c3",
   "metadata": {},
   "outputs": [],
   "source": [
    "plt.plot([t], [num], \"bo\")"
   ]
  },
  {
   "cell_type": "code",
   "execution_count": null,
   "id": "9dc1d3fa",
   "metadata": {},
   "outputs": [],
   "source": []
  }
 ],
 "metadata": {
  "kernelspec": {
   "display_name": "Python 3 (ipykernel)",
   "language": "python",
   "name": "python3"
  },
  "language_info": {
   "codemirror_mode": {
    "name": "ipython",
    "version": 3
   },
   "file_extension": ".py",
   "mimetype": "text/x-python",
   "name": "python",
   "nbconvert_exporter": "python",
   "pygments_lexer": "ipython3",
   "version": "3.9.7"
  }
 },
 "nbformat": 4,
 "nbformat_minor": 5
}
